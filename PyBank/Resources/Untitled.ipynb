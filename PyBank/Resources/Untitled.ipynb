{
 "cells": [
  {
   "cell_type": "code",
   "execution_count": 4,
   "id": "96956b43",
   "metadata": {},
   "outputs": [],
   "source": [
    "import os\n"
   ]
  },
  {
   "cell_type": "code",
   "execution_count": 5,
   "id": "bfda21ad",
   "metadata": {},
   "outputs": [],
   "source": [
    "title= \"Kermit the frog\""
   ]
  },
  {
   "cell_type": "code",
   "execution_count": 6,
   "id": "926894ee",
   "metadata": {},
   "outputs": [],
   "source": [
    "years = 20 "
   ]
  },
  {
   "cell_type": "code",
   "execution_count": 16,
   "id": "3cda4a92",
   "metadata": {},
   "outputs": [
    {
     "name": "stdout",
     "output_type": "stream",
     "text": [
      " Ram has liked Kermit the frog for 20 years\n"
     ]
    }
   ],
   "source": [
    "print(\" Ram has liked \" + title   + \" for \" + str(years)+ \" years\")"
   ]
  },
  {
   "cell_type": "code",
   "execution_count": 22,
   "id": "b2475f7e",
   "metadata": {},
   "outputs": [
    {
     "name": "stdout",
     "output_type": "stream",
     "text": [
      "['kermit', 'fozzie', 'ms piggey']\n",
      "['kermit', 'fozzie', 'ms piggey', 'Gonzo']\n"
     ]
    }
   ],
   "source": [
    "Mylist = ['kermit', 'fozzie', 'ms piggey']\n",
    "print (Mylist)\n",
    "\n",
    "Mylist.append('Gonzo')\n",
    "print (Mylist)\n",
    "\n",
    "Mylist.append ('Gonzo')\n",
    "\n"
   ]
  },
  {
   "cell_type": "code",
   "execution_count": 23,
   "id": "7003248a",
   "metadata": {},
   "outputs": [
    {
     "name": "stdout",
     "output_type": "stream",
     "text": [
      "['kermit', 'fozzie', 'ms piggey', 'Gonzo', 'Gonzo']\n"
     ]
    }
   ],
   "source": [
    "print (Mylist)"
   ]
  },
  {
   "cell_type": "code",
   "execution_count": 26,
   "id": "6bd4817d",
   "metadata": {},
   "outputs": [
    {
     "name": "stdout",
     "output_type": "stream",
     "text": [
      "kermit\n",
      "fozzie\n",
      "ms piggey\n",
      "Gonzo\n",
      "Gonzo\n"
     ]
    }
   ],
   "source": [
    "for x in Mylist:\n",
    "    print (x)"
   ]
  },
  {
   "cell_type": "code",
   "execution_count": 27,
   "id": "049f6458",
   "metadata": {},
   "outputs": [
    {
     "name": "stdout",
     "output_type": "stream",
     "text": [
      "The length of this list is5\n"
     ]
    }
   ],
   "source": [
    "print (\"The length of this list is\" + str(len(Mylist)))"
   ]
  },
  {
   "cell_type": "code",
   "execution_count": 34,
   "id": "ffe0f240",
   "metadata": {},
   "outputs": [
    {
     "name": "stdout",
     "output_type": "stream",
     "text": [
      "8 has ocurred None times\n"
     ]
    }
   ],
   "source": [
    "def countx(Mylist2, x):\n",
    "    count=0\n",
    "    for ele in Mylist:\n",
    "        if (ele==x):\n",
    "            count = count +1\n",
    "            return count \n",
    "        \n",
    "Mylist2= [8, 9, 8, 9, 8, 9, 8, 8 ,8]\n",
    "x=8\n",
    "print ('{} has ocurred {} times'.format (x, countx(Mylist2, x)))"
   ]
  },
  {
   "cell_type": "code",
   "execution_count": null,
   "id": "80db8474",
   "metadata": {},
   "outputs": [],
   "source": []
  },
  {
   "cell_type": "code",
   "execution_count": null,
   "id": "e8573516",
   "metadata": {},
   "outputs": [],
   "source": []
  }
 ],
 "metadata": {
  "kernelspec": {
   "display_name": "Python 3 (ipykernel)",
   "language": "python",
   "name": "python3"
  },
  "language_info": {
   "codemirror_mode": {
    "name": "ipython",
    "version": 3
   },
   "file_extension": ".py",
   "mimetype": "text/x-python",
   "name": "python",
   "nbconvert_exporter": "python",
   "pygments_lexer": "ipython3",
   "version": "3.9.7"
  }
 },
 "nbformat": 4,
 "nbformat_minor": 5
}
