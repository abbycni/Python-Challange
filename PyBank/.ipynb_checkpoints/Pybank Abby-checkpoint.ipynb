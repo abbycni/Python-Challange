{
 "cells": [
  {
   "cell_type": "code",
   "execution_count": 12,
   "id": "536f902a",
   "metadata": {},
   "outputs": [],
   "source": [
    "import os\n",
    "import csv\n"
   ]
  },
  {
   "cell_type": "code",
   "execution_count": 13,
   "id": "0424fb70",
   "metadata": {},
   "outputs": [
    {
     "name": "stdout",
     "output_type": "stream",
     "text": [
      "Header: Date,Profit/Losses\n",
      "\n",
      "The total number of months is 86\n",
      "The total net profit is $38382578\n",
      "The average difference for months $-2315.1176470588234\n",
      "The greatest increase in profits is Feb-2012 ($1926159)\n",
      "The greatest decrease in profits is Sep-2013 ($-2196167)\n"
     ]
    }
   ],
   "source": [
    "# Path to collect data from the Resources folder\n",
    "Pybank_csv = os.path.join('Resources', 'budget_data.csv')\n",
    "with open(Pybank_csv) as csv_file:\n",
    "    csv_reader= csv.reader(csv_file, delimiter=\",\")\n",
    "    \n",
    "    # read the header row first (skip this part if there is no longer header)\n",
    "    cvs_header= next(csv_file)\n",
    "    print(f\"Header: {cvs_header}\")\n",
    "    \n",
    "#  Calculate Print the total number of months     \n",
    "    all_data = list(csv_reader)\n",
    "    numberofmonths= len(all_data)\n",
    "    \n",
    "print(\"The total number of months is \"+ str(numberofmonths))   \n",
    "\n",
    "# Calculate and Print the sum of net profit ( sum of Row [1])\n",
    "total=0\n",
    "diff=[]\n",
    "months=[]\n",
    "\n",
    "for row in all_data:\n",
    "    total += int(row[1])\n",
    "    months.append (row[0])\n",
    "    \n",
    "\n",
    "\n",
    "    \n",
    "print(\"The total net profit is $\" + str(total)) \n",
    "\n",
    "\n",
    "# Calculate the net change for per month second month- previous month\n",
    "\n",
    "sumdiff = 0\n",
    "\n",
    "for row in range(numberofmonths-1):\n",
    "    diff.append (int(all_data[row+1][1])-int(all_data[row][1]))\n",
    "    \n",
    "maxdiff=diff[0]\n",
    "maxmonth=0\n",
    "\n",
    "mindiff=diff[0]\n",
    "minmonth=0\n",
    "\n",
    "#Calculate the minimum and maximum difference \n",
    "for i in range(len(diff)):\n",
    "    if diff[i] > maxdiff:\n",
    "        maxdiff = diff[i]\n",
    "        maxmonth = i\n",
    "    if diff[i] < mindiff:\n",
    "        mindiff = diff[i]\n",
    "        minmonth = i\n",
    "        \n",
    "#Calculate the average difference\n",
    "sumdiff = sum(diff)    \n",
    "average = sumdiff/(numberofmonths-1)\n",
    "print(\"The average difference for months $\" + str(average))\n",
    "\n",
    "print(\"The greatest increase in profits is \" + months[maxmonth+1] + \" ($\" + str(maxdiff) + \")\")\n",
    "print(\"The greatest decrease in profits is \" + months[minmonth+1] + \" ($\" + str(mindiff) + \")\")\n",
    "\n",
    "#Set variable for output file\n",
    "output_file = os.path.join(\"pybank_final.csv\")\n",
    "\n",
    "#Open the output file\n",
    "with open(output_file, \"w\", newline=\"\") as datafile:\n",
    "    writer=csv.writer(datafile)\n",
    "\n",
    "#Write the header row\n",
    "    writer.writerow( [\"Financial analysis of Bank data \"])\n",
    "# Write answers to output file    \n",
    "    writer.writerow([\"The total number of months is \"+ str(numberofmonths)])  \n",
    "        \n",
    "    writer.writerow([\"The total net profit is $\" + str(total)])\n",
    "    writer.writerow([\"The average difference for months $\" + str(average),])\n",
    "\n",
    "    writer.writerow([\"The greatest increase in profits is \" + months[maxmonth+1] + \" ($\" + str(maxdiff) + \")\"])\n",
    "    writer.writerow([\"The greatest decrease in profits is \" + months[minmonth+1] + \" ($\" + str(mindiff) + \")\"])\n",
    "\n"
   ]
  },
  {
   "cell_type": "code",
   "execution_count": null,
   "id": "d02034e0",
   "metadata": {},
   "outputs": [],
   "source": [
    "print (all_data[0])\n",
    "print (all_data[0][1])\n"
   ]
  },
  {
   "cell_type": "code",
   "execution_count": null,
   "id": "efb5a756",
   "metadata": {},
   "outputs": [],
   "source": [
    "9"
   ]
  }
 ],
 "metadata": {
  "kernelspec": {
   "display_name": "Python 3 (ipykernel)",
   "language": "python",
   "name": "python3"
  },
  "language_info": {
   "codemirror_mode": {
    "name": "ipython",
    "version": 3
   },
   "file_extension": ".py",
   "mimetype": "text/x-python",
   "name": "python",
   "nbconvert_exporter": "python",
   "pygments_lexer": "ipython3",
   "version": "3.9.7"
  }
 },
 "nbformat": 4,
 "nbformat_minor": 5
}
