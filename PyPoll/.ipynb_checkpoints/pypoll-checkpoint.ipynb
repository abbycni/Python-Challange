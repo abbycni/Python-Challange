{
 "cells": [
  {
   "cell_type": "code",
   "execution_count": 1,
   "id": "f4a1ebc4",
   "metadata": {},
   "outputs": [],
   "source": [
    "import os \n",
    "import csv\n"
   ]
  },
  {
   "cell_type": "code",
   "execution_count": 2,
   "id": "2994a19f",
   "metadata": {},
   "outputs": [],
   "source": [
    "election_csv = os.path.join( \"Resources\", \"election_data.csv\")\n"
   ]
  },
  {
   "cell_type": "code",
   "execution_count": 3,
   "id": "d0326fa3",
   "metadata": {},
   "outputs": [
    {
     "name": "stdout",
     "output_type": "stream",
     "text": [
      "The total number of votes is 3521001\n"
     ]
    }
   ],
   "source": [
    "# open the CSV file \n",
    "with open(election_csv) as csv_file:\n",
    "    csv_reader= csv.reader(csv_file, delimiter=\",\")\n",
    "    \n",
    "    # read the header row first (skip this part if there is no longer header)\n",
    "    cvs_header= next(csv_file)\n",
    "   \n",
    "    \n",
    "    #read through each row of data after the header\n",
    " #   for row in csv_reader:\n",
    "    # Count the total number of votes per candidate\n",
    "    \n",
    "#  Calculate Print the total number of votes   \n",
    "    all_data = list(csv_reader)\n",
    "    total_vote= len(all_data)    \n",
    "    print(\"The total number of votes is \"+ str(total_vote))    \n",
    "\n",
    "    Candidates=[]\n",
    "    for row in all_data:\n",
    "       \n",
    "       \n",
    "        if row[2] not in Candidates:\n",
    "            Candidates.append(row[2])\n",
    "           \n",
    "  \n",
    "votes ={}\n",
    "for name in Candidates: \n",
    "    votes[name]=0\n",
    "    \n",
    "\n",
    "for name in Candidates:\n",
    "   \n",
    "    for row in all_data:\n",
    "        if row[2]==name:\n",
    "            votes[name]=votes[name]+1 \n",
    "\n",
    "\n",
    "percentage_votes={}\n",
    "for name in votes:\n",
    "\n",
    "    percentage_votes[name]= votes[name]/total_vote*100\n",
    "   \n",
    " \n",
    "\n"
   ]
  },
  {
   "cell_type": "code",
   "execution_count": 5,
   "id": "1dc57031",
   "metadata": {},
   "outputs": [
    {
     "name": "stdout",
     "output_type": "stream",
     "text": [
      "Election results\n",
      "Khan:   63.00001050837531%  (2218231)\n",
      "Correy:   19.999994319797125%  (704200)\n",
      "Li:   13.999996023857989%  (492940)\n",
      "O'Tooley:   2.999999147969569%  (105630)\n",
      "Winner:  Khan\n"
     ]
    }
   ],
   "source": [
    "\n",
    "\n",
    "print(\"Election results\")\n",
    "for key in votes:\n",
    "  \n",
    "    print(key + \":   \" +str(percentage_votes[key]) + \"%  \"+ \"(\"+str(votes[key])+\")\")\n",
    "\n",
    "winner = \"\"    \n",
    "max_vote=0\n",
    "for name in votes:   \n",
    "    if votes[name]>max_vote:\n",
    "        winner=name\n",
    "        max_vote=votes[name]\n",
    "        \n",
    "        \n",
    "    \n",
    "    #winner=(votes[name]).max()\n",
    "    #print(votes[name])\n",
    "\n",
    "print(\"Winner:  \" +winner)\n",
    "  \n",
    "\n",
    "    \n",
    "    # write data in a file.\n",
    "file1 = open(\"myfile.txt\",\"w\")\n",
    "file1.write(\"Election Results\\n\")\n",
    "file1.writelines(\"The total number of votes is \"+ str(total_vote))\n",
    "file1.write(\" \\n\")\n",
    "    \n",
    "  \n",
    "   \n",
    "for key in votes:\n",
    "        file1.writelines([key + \":   \" +str(percentage_votes[key]) + \"%  \"+ \"(\"+str(votes[key])+\")\\n\"])     \n",
    "\n",
    "file1.writelines(\"Winner:  \" + (winner))    \n",
    "file1.close() #to change file access modes"
   ]
  },
  {
   "cell_type": "code",
   "execution_count": null,
   "id": "e19367af",
   "metadata": {},
   "outputs": [],
   "source": []
  },
  {
   "cell_type": "code",
   "execution_count": null,
   "id": "bd35be90",
   "metadata": {},
   "outputs": [],
   "source": []
  }
 ],
 "metadata": {
  "kernelspec": {
   "display_name": "Python 3 (ipykernel)",
   "language": "python",
   "name": "python3"
  },
  "language_info": {
   "codemirror_mode": {
    "name": "ipython",
    "version": 3
   },
   "file_extension": ".py",
   "mimetype": "text/x-python",
   "name": "python",
   "nbconvert_exporter": "python",
   "pygments_lexer": "ipython3",
   "version": "3.9.7"
  }
 },
 "nbformat": 4,
 "nbformat_minor": 5
}
